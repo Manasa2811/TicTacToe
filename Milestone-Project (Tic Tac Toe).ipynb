{
 "cells": [
  {
   "cell_type": "code",
   "execution_count": 1,
   "metadata": {},
   "outputs": [],
   "source": [
    "from IPython.display import clear_output\n",
    "\n",
    "def display_board(board):\n",
    "    clear_output()\n",
    "    print('  '+'|'+'  '+'|'+'  ')\n",
    "    print(board[7]+' |'+board[8]+' |'+board[9])\n",
    "    print('__|__|__')\n",
    "    print('  '+'|'+'  '+'|'+'  ')\n",
    "    print(board[4]+' |'+board[5]+' |'+board[6])\n",
    "    print('__|__|__')\n",
    "    print('  '+'|'+'  '+'|'+'  ')\n",
    "    print(board[1]+' |'+board[2]+' |'+board[3])\n",
    "    print('  '+'|'+'  '+'|'+'  ')"
   ]
  },
  {
   "cell_type": "code",
   "execution_count": 2,
   "metadata": {},
   "outputs": [
    {
     "name": "stdout",
     "output_type": "stream",
     "text": [
      "  |  |  \n",
      "  |  | \n",
      "__|__|__\n",
      "  |  |  \n",
      "  |  | \n",
      "__|__|__\n",
      "  |  |  \n",
      "  |  | \n",
      "  |  |  \n"
     ]
    }
   ],
   "source": [
    "test_board = [' ']*10\n",
    "display_board(test_board)"
   ]
  },
  {
   "cell_type": "code",
   "execution_count": 3,
   "metadata": {},
   "outputs": [],
   "source": [
    "def player_input():\n",
    "    marker=''\n",
    "    while marker != 'X' and marker != 'O':\n",
    "        marker=input(\"Player 1, Choose X or O: \").upper()\n",
    "    player1=marker\n",
    "        \n",
    "    if player1=='X':\n",
    "        player2='O'\n",
    "    elif player1=='O':\n",
    "        player2='X'\n",
    "        \n",
    "    return (player1,player2)"
   ]
  },
  {
   "cell_type": "code",
   "execution_count": 4,
   "metadata": {},
   "outputs": [
    {
     "name": "stdout",
     "output_type": "stream",
     "text": [
      "Player 1, Choose X or O: X\n"
     ]
    }
   ],
   "source": [
    "player1_marker,player2_marker=player_input()"
   ]
  },
  {
   "cell_type": "code",
   "execution_count": 5,
   "metadata": {},
   "outputs": [
    {
     "data": {
      "text/plain": [
       "'X'"
      ]
     },
     "execution_count": 5,
     "metadata": {},
     "output_type": "execute_result"
    }
   ],
   "source": [
    "player1_marker"
   ]
  },
  {
   "cell_type": "code",
   "execution_count": 4,
   "metadata": {},
   "outputs": [],
   "source": [
    "def place_marker(board,marker,position):\n",
    "    board[position]=marker\n",
    "    "
   ]
  },
  {
   "cell_type": "code",
   "execution_count": 7,
   "metadata": {},
   "outputs": [
    {
     "name": "stdout",
     "output_type": "stream",
     "text": [
      "  |  |  \n",
      "X |O |X\n",
      "__|__|__\n",
      "  |  |  \n",
      "O |X |O\n",
      "__|__|__\n",
      "  |  |  \n",
      "X |O |X\n",
      "  |  |  \n"
     ]
    }
   ],
   "source": [
    "place_marker(test_board,'X',7)\n",
    "display_board(test_board)"
   ]
  },
  {
   "cell_type": "code",
   "execution_count": 5,
   "metadata": {},
   "outputs": [],
   "source": [
    "def win_check(board,mark):\n",
    "    return ((board[7] == mark and board[8] == mark and board[9] == mark) or \n",
    "    (board[4] == mark and board[5] == mark and board[6] == mark) or \n",
    "    (board[1] == mark and board[2] == mark and board[3] == mark) or \n",
    "    (board[7] == mark and board[4] == mark and board[1] == mark) or \n",
    "    (board[8] == mark and board[5] == mark and board[2] == mark) or \n",
    "    (board[9] == mark and board[6] == mark and board[3] == mark) or \n",
    "    (board[7] == mark and board[5] == mark and board[3] == mark) or \n",
    "    (board[9] == mark and board[5] == mark and board[1] == mark)) "
   ]
  },
  {
   "cell_type": "code",
   "execution_count": 9,
   "metadata": {},
   "outputs": [
    {
     "data": {
      "text/plain": [
       "True"
      ]
     },
     "execution_count": 9,
     "metadata": {},
     "output_type": "execute_result"
    }
   ],
   "source": [
    "win_check(test_board,'X')"
   ]
  },
  {
   "cell_type": "code",
   "execution_count": 6,
   "metadata": {},
   "outputs": [],
   "source": [
    "import random \n",
    "def choose_first():\n",
    "    flip=random.randint(0,1)\n",
    "    if flip==0:\n",
    "        return 'Player 1'\n",
    "    else:\n",
    "        return 'Player 2'"
   ]
  },
  {
   "cell_type": "code",
   "execution_count": 11,
   "metadata": {},
   "outputs": [
    {
     "data": {
      "text/plain": [
       "'Player 2'"
      ]
     },
     "execution_count": 11,
     "metadata": {},
     "output_type": "execute_result"
    }
   ],
   "source": [
    "choose_first()"
   ]
  },
  {
   "cell_type": "code",
   "execution_count": 7,
   "metadata": {},
   "outputs": [],
   "source": [
    "def space_check(board,position):\n",
    "    if board[position]==' ':\n",
    "        return True\n",
    "    else:\n",
    "        return False\n",
    "    "
   ]
  },
  {
   "cell_type": "code",
   "execution_count": 8,
   "metadata": {},
   "outputs": [
    {
     "data": {
      "text/plain": [
       "True"
      ]
     },
     "execution_count": 8,
     "metadata": {},
     "output_type": "execute_result"
    }
   ],
   "source": [
    "space_check(test_board,2)"
   ]
  },
  {
   "cell_type": "code",
   "execution_count": 8,
   "metadata": {},
   "outputs": [],
   "source": [
    "def full_check(board):\n",
    "    for i in range(1,10):\n",
    "        if space_check(board,i):\n",
    "            return False\n",
    "    return True"
   ]
  },
  {
   "cell_type": "code",
   "execution_count": 15,
   "metadata": {},
   "outputs": [
    {
     "data": {
      "text/plain": [
       "True"
      ]
     },
     "execution_count": 15,
     "metadata": {},
     "output_type": "execute_result"
    }
   ],
   "source": [
    "full_check(test_board)"
   ]
  },
  {
   "cell_type": "code",
   "execution_count": 9,
   "metadata": {},
   "outputs": [],
   "source": [
    "def player_choice(board):\n",
    "    position=0\n",
    "    while position not in [1,2,3,4,5,6,7,8,9] or not space_check(board,position):\n",
    "        position=int(input(\"Enter position(1-9): \"))\n",
    "    return position"
   ]
  },
  {
   "cell_type": "code",
   "execution_count": 12,
   "metadata": {},
   "outputs": [],
   "source": [
    "def replay():\n",
    "    choice=(input(\"DO you want to play again?(Yes or No)\"))\n",
    "    return choice=='Yes'"
   ]
  },
  {
   "cell_type": "code",
   "execution_count": 17,
   "metadata": {},
   "outputs": [
    {
     "name": "stdout",
     "output_type": "stream",
     "text": [
      "  |  |  \n",
      "O |  | \n",
      "__|__|__\n",
      "  |  |  \n",
      "X |O |X\n",
      "__|__|__\n",
      "  |  |  \n",
      "O |X |O\n",
      "  |  |  \n",
      "Player 1 won!!\n",
      "DO you want to play again?(Yes or No)8\n"
     ]
    }
   ],
   "source": [
    "print(\"TIC TAC TOE\")\n",
    "\n",
    "while True:\n",
    "    #play game\n",
    "    \n",
    "    the_board=[' ']*10\n",
    "    \n",
    "    player1_marker,player2_marker=player_input()\n",
    "    \n",
    "    turn=choose_first()\n",
    "    print(turn +' will go first')\n",
    "    \n",
    "    play_game=input(\"Ready to play?(Y or N)\")\n",
    "    \n",
    "    if play_game=='Y':\n",
    "        game_on=True\n",
    "    else:\n",
    "        game_on=False\n",
    "        \n",
    "        \n",
    "    while game_on:\n",
    "        \n",
    "        if turn=='Player 1':\n",
    "            display_board(the_board)\n",
    "            \n",
    "            position=player_choice(the_board)\n",
    "            \n",
    "            place_marker(the_board,player1_marker,position)\n",
    "            \n",
    "            if win_check(the_board,player1_marker):\n",
    "                display_board(the_board)\n",
    "                print(\"Player 1 won!!\")\n",
    "                game_on=False\n",
    "                \n",
    "            else:\n",
    "                if full_check(the_board):\n",
    "                    display_board(the_board)\n",
    "                    print(\"It's a Tie!!\")\n",
    "                    break\n",
    "                    \n",
    "                else:\n",
    "                    turn='Player 2'\n",
    "                    \n",
    "        else:\n",
    "            display_board(the_board)\n",
    "            \n",
    "            position=player_choice(the_board)\n",
    "            \n",
    "            place_marker(the_board,player2_marker,position)\n",
    "            \n",
    "            if win_check(the_board,player2_marker):\n",
    "                display_board(the_board)\n",
    "                print(\"Player 2 won!!\")\n",
    "                game_on=False\n",
    "                \n",
    "            else:\n",
    "                if full_check(the_board):\n",
    "                    display_board(the_board)\n",
    "                    print(\"It's a Tie!!\")\n",
    "                    break\n",
    "                    \n",
    "                else:\n",
    "                    turn='Player 1'\n",
    "                    \n",
    "    if not replay():\n",
    "        break\n",
    "            \n",
    "            \n",
    "            \n",
    "            \n",
    "            \n",
    "    \n",
    "    \n",
    "    \n",
    "    "
   ]
  },
  {
   "cell_type": "code",
   "execution_count": null,
   "metadata": {},
   "outputs": [],
   "source": []
  }
 ],
 "metadata": {
  "kernelspec": {
   "display_name": "Python 3",
   "language": "python",
   "name": "python3"
  },
  "language_info": {
   "codemirror_mode": {
    "name": "ipython",
    "version": 3
   },
   "file_extension": ".py",
   "mimetype": "text/x-python",
   "name": "python",
   "nbconvert_exporter": "python",
   "pygments_lexer": "ipython3",
   "version": "3.7.3"
  }
 },
 "nbformat": 4,
 "nbformat_minor": 2
}
